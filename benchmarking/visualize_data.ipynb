{
 "cells": [
  {
   "cell_type": "code",
   "execution_count": 1,
   "metadata": {},
   "outputs": [],
   "source": [
    "import pandas as pd\n",
    "import polars as pl"
   ]
  },
  {
   "cell_type": "code",
   "execution_count": 3,
   "metadata": {},
   "outputs": [
    {
     "data": {
      "text/html": [
       "<div><style>\n",
       ".dataframe > thead > tr,\n",
       ".dataframe > tbody > tr {\n",
       "  text-align: right;\n",
       "  white-space: pre-wrap;\n",
       "}\n",
       "</style>\n",
       "<small>shape: (100, 105)</small><table border=\"1\" class=\"dataframe\"><thead><tr><th>WatchID</th><th>JavaEnable</th><th>Title</th><th>GoodEvent</th><th>EventTime</th><th>EventDate</th><th>CounterID</th><th>ClientIP</th><th>RegionID</th><th>UserID</th><th>CounterClass</th><th>OS</th><th>UserAgent</th><th>URL</th><th>Referer</th><th>IsRefresh</th><th>RefererCategoryID</th><th>RefererRegionID</th><th>URLCategoryID</th><th>URLRegionID</th><th>ResolutionWidth</th><th>ResolutionHeight</th><th>ResolutionDepth</th><th>FlashMajor</th><th>FlashMinor</th><th>FlashMinor2</th><th>NetMajor</th><th>NetMinor</th><th>UserAgentMajor</th><th>UserAgentMinor</th><th>CookieEnable</th><th>JavascriptEnable</th><th>IsMobile</th><th>MobilePhone</th><th>MobilePhoneModel</th><th>Params</th><th>IPNetworkID</th><th>&hellip;</th><th>Interests</th><th>Robotness</th><th>RemoteIP</th><th>WindowName</th><th>OpenerName</th><th>HistoryLength</th><th>BrowserLanguage</th><th>BrowserCountry</th><th>SocialNetwork</th><th>SocialAction</th><th>HTTPError</th><th>SendTiming</th><th>DNSTiming</th><th>ConnectTiming</th><th>ResponseStartTiming</th><th>ResponseEndTiming</th><th>FetchTiming</th><th>SocialSourceNetworkID</th><th>SocialSourcePage</th><th>ParamPrice</th><th>ParamOrderID</th><th>ParamCurrency</th><th>ParamCurrencyID</th><th>OpenstatServiceName</th><th>OpenstatCampaignID</th><th>OpenstatAdID</th><th>OpenstatSourceID</th><th>UTMSource</th><th>UTMMedium</th><th>UTMCampaign</th><th>UTMContent</th><th>UTMTerm</th><th>FromTag</th><th>HasGCLID</th><th>RefererHash</th><th>URLHash</th><th>CLID</th></tr><tr><td>i64</td><td>i16</td><td>str</td><td>i16</td><td>i64</td><td>u16</td><td>i32</td><td>i32</td><td>i32</td><td>i64</td><td>i16</td><td>i16</td><td>i16</td><td>str</td><td>str</td><td>i16</td><td>i16</td><td>i32</td><td>i16</td><td>i32</td><td>i16</td><td>i16</td><td>i16</td><td>i16</td><td>i16</td><td>str</td><td>i16</td><td>i16</td><td>i16</td><td>str</td><td>i16</td><td>i16</td><td>i16</td><td>i16</td><td>str</td><td>str</td><td>i32</td><td>&hellip;</td><td>i16</td><td>i16</td><td>i32</td><td>i32</td><td>i32</td><td>i16</td><td>str</td><td>str</td><td>str</td><td>str</td><td>i16</td><td>i32</td><td>i32</td><td>i32</td><td>i32</td><td>i32</td><td>i32</td><td>i16</td><td>str</td><td>i64</td><td>str</td><td>str</td><td>i16</td><td>str</td><td>str</td><td>str</td><td>str</td><td>str</td><td>str</td><td>str</td><td>str</td><td>str</td><td>str</td><td>i16</td><td>i64</td><td>i64</td><td>i32</td></tr></thead><tbody><tr><td>9110818468285196899</td><td>0</td><td>&quot;&quot;</td><td>1</td><td>1373834327</td><td>15901</td><td>17</td><td>-1216690514</td><td>839</td><td>-2461439046089301801</td><td>0</td><td>0</td><td>0</td><td>&quot;&quot;</td><td>&quot;&quot;</td><td>0</td><td>0</td><td>0</td><td>0</td><td>0</td><td>0</td><td>0</td><td>0</td><td>0</td><td>0</td><td>&quot;&quot;</td><td>0</td><td>0</td><td>0</td><td>&quot;�O&quot;</td><td>0</td><td>0</td><td>0</td><td>0</td><td>&quot;&quot;</td><td>&quot;&quot;</td><td>3793327</td><td>&hellip;</td><td>0</td><td>0</td><td>-1001831330</td><td>-1</td><td>-1</td><td>-1</td><td>&quot;�&quot;</td><td>&quot;�\f&quot;</td><td>&quot;&quot;</td><td>&quot;&quot;</td><td>0</td><td>0</td><td>0</td><td>0</td><td>0</td><td>0</td><td>0</td><td>0</td><td>&quot;&quot;</td><td>0</td><td>&quot;&quot;</td><td>&quot;NH\u001c&quot;</td><td>0</td><td>&quot;&quot;</td><td>&quot;&quot;</td><td>&quot;&quot;</td><td>&quot;&quot;</td><td>&quot;&quot;</td><td>&quot;&quot;</td><td>&quot;&quot;</td><td>&quot;&quot;</td><td>&quot;&quot;</td><td>&quot;&quot;</td><td>0</td><td>-296158784638538920</td><td>-8417682003818480435</td><td>0</td></tr><tr><td>8156744413230856864</td><td>0</td><td>&quot;&quot;</td><td>1</td><td>1373913230</td><td>15901</td><td>17</td><td>-1216690514</td><td>839</td><td>-2461439046089301801</td><td>0</td><td>0</td><td>0</td><td>&quot;&quot;</td><td>&quot;&quot;</td><td>0</td><td>0</td><td>0</td><td>0</td><td>0</td><td>0</td><td>0</td><td>0</td><td>0</td><td>0</td><td>&quot;&quot;</td><td>0</td><td>0</td><td>0</td><td>&quot;�O&quot;</td><td>0</td><td>0</td><td>0</td><td>0</td><td>&quot;&quot;</td><td>&quot;&quot;</td><td>3793327</td><td>&hellip;</td><td>0</td><td>0</td><td>-1001831330</td><td>-1</td><td>-1</td><td>-1</td><td>&quot;�&quot;</td><td>&quot;�\f&quot;</td><td>&quot;&quot;</td><td>&quot;&quot;</td><td>0</td><td>0</td><td>0</td><td>0</td><td>0</td><td>0</td><td>0</td><td>0</td><td>&quot;&quot;</td><td>0</td><td>&quot;&quot;</td><td>&quot;NH\u001c&quot;</td><td>0</td><td>&quot;&quot;</td><td>&quot;&quot;</td><td>&quot;&quot;</td><td>&quot;&quot;</td><td>&quot;&quot;</td><td>&quot;&quot;</td><td>&quot;&quot;</td><td>&quot;&quot;</td><td>&quot;&quot;</td><td>&quot;&quot;</td><td>0</td><td>-296158784638538920</td><td>-8417682003818480435</td><td>0</td></tr><tr><td>5206346422301499756</td><td>0</td><td>&quot;&quot;</td><td>1</td><td>1373914595</td><td>15901</td><td>17</td><td>-1216690514</td><td>839</td><td>-2461439046089301801</td><td>0</td><td>0</td><td>0</td><td>&quot;&quot;</td><td>&quot;&quot;</td><td>0</td><td>0</td><td>0</td><td>0</td><td>0</td><td>0</td><td>0</td><td>0</td><td>0</td><td>0</td><td>&quot;&quot;</td><td>0</td><td>0</td><td>0</td><td>&quot;�O&quot;</td><td>0</td><td>0</td><td>0</td><td>0</td><td>&quot;&quot;</td><td>&quot;&quot;</td><td>3793327</td><td>&hellip;</td><td>0</td><td>0</td><td>-1001831330</td><td>-1</td><td>-1</td><td>-1</td><td>&quot;�&quot;</td><td>&quot;�\f&quot;</td><td>&quot;&quot;</td><td>&quot;&quot;</td><td>0</td><td>0</td><td>0</td><td>0</td><td>0</td><td>0</td><td>0</td><td>0</td><td>&quot;&quot;</td><td>0</td><td>&quot;&quot;</td><td>&quot;NH\u001c&quot;</td><td>0</td><td>&quot;&quot;</td><td>&quot;&quot;</td><td>&quot;&quot;</td><td>&quot;&quot;</td><td>&quot;&quot;</td><td>&quot;&quot;</td><td>&quot;&quot;</td><td>&quot;&quot;</td><td>&quot;&quot;</td><td>&quot;&quot;</td><td>0</td><td>-296158784638538920</td><td>-8417682003818480435</td><td>0</td></tr><tr><td>6308646140879811077</td><td>0</td><td>&quot;&quot;</td><td>1</td><td>1373914712</td><td>15901</td><td>17</td><td>-1216690514</td><td>839</td><td>-2461439046089301801</td><td>0</td><td>0</td><td>0</td><td>&quot;&quot;</td><td>&quot;&quot;</td><td>0</td><td>0</td><td>0</td><td>0</td><td>0</td><td>0</td><td>0</td><td>0</td><td>0</td><td>0</td><td>&quot;&quot;</td><td>0</td><td>0</td><td>0</td><td>&quot;�O&quot;</td><td>0</td><td>0</td><td>0</td><td>0</td><td>&quot;&quot;</td><td>&quot;&quot;</td><td>3793327</td><td>&hellip;</td><td>0</td><td>0</td><td>-1001831330</td><td>-1</td><td>-1</td><td>-1</td><td>&quot;�&quot;</td><td>&quot;�\f&quot;</td><td>&quot;&quot;</td><td>&quot;&quot;</td><td>0</td><td>0</td><td>0</td><td>0</td><td>0</td><td>0</td><td>0</td><td>0</td><td>&quot;&quot;</td><td>0</td><td>&quot;&quot;</td><td>&quot;NH\u001c&quot;</td><td>0</td><td>&quot;&quot;</td><td>&quot;&quot;</td><td>&quot;&quot;</td><td>&quot;&quot;</td><td>&quot;&quot;</td><td>&quot;&quot;</td><td>&quot;&quot;</td><td>&quot;&quot;</td><td>&quot;&quot;</td><td>&quot;&quot;</td><td>0</td><td>-296158784638538920</td><td>-8417682003818480435</td><td>0</td></tr><tr><td>8740403056911509777</td><td>0</td><td>&quot;&quot;</td><td>1</td><td>1373833834</td><td>15901</td><td>17</td><td>1615432634</td><td>39</td><td>376160620089546609</td><td>0</td><td>2</td><td>7</td><td>&quot;http://holodilnik.ru/russia/05…</td><td>&quot;&quot;</td><td>0</td><td>0</td><td>0</td><td>14764</td><td>22</td><td>0</td><td>0</td><td>0</td><td>0</td><td>0</td><td>&quot;&quot;</td><td>2</td><td>7</td><td>13</td><td>&quot;D�&quot;</td><td>1</td><td>0</td><td>0</td><td>0</td><td>&quot;&quot;</td><td>&quot;&quot;</td><td>3761292</td><td>&hellip;</td><td>15014</td><td>2</td><td>1312025145</td><td>-1</td><td>-1</td><td>-1</td><td>&quot;�&quot;</td><td>&quot;�\f&quot;</td><td>&quot;&quot;</td><td>&quot;&quot;</td><td>0</td><td>0</td><td>0</td><td>0</td><td>0</td><td>0</td><td>0</td><td>0</td><td>&quot;&quot;</td><td>0</td><td>&quot;&quot;</td><td>&quot;NH\u001c&quot;</td><td>0</td><td>&quot;&quot;</td><td>&quot;&quot;</td><td>&quot;&quot;</td><td>&quot;&quot;</td><td>&quot;&quot;</td><td>&quot;&quot;</td><td>&quot;&quot;</td><td>&quot;&quot;</td><td>&quot;&quot;</td><td>&quot;&quot;</td><td>0</td><td>-296158784638538920</td><td>7346197697999278734</td><td>0</td></tr><tr><td>&hellip;</td><td>&hellip;</td><td>&hellip;</td><td>&hellip;</td><td>&hellip;</td><td>&hellip;</td><td>&hellip;</td><td>&hellip;</td><td>&hellip;</td><td>&hellip;</td><td>&hellip;</td><td>&hellip;</td><td>&hellip;</td><td>&hellip;</td><td>&hellip;</td><td>&hellip;</td><td>&hellip;</td><td>&hellip;</td><td>&hellip;</td><td>&hellip;</td><td>&hellip;</td><td>&hellip;</td><td>&hellip;</td><td>&hellip;</td><td>&hellip;</td><td>&hellip;</td><td>&hellip;</td><td>&hellip;</td><td>&hellip;</td><td>&hellip;</td><td>&hellip;</td><td>&hellip;</td><td>&hellip;</td><td>&hellip;</td><td>&hellip;</td><td>&hellip;</td><td>&hellip;</td><td>&hellip;</td><td>&hellip;</td><td>&hellip;</td><td>&hellip;</td><td>&hellip;</td><td>&hellip;</td><td>&hellip;</td><td>&hellip;</td><td>&hellip;</td><td>&hellip;</td><td>&hellip;</td><td>&hellip;</td><td>&hellip;</td><td>&hellip;</td><td>&hellip;</td><td>&hellip;</td><td>&hellip;</td><td>&hellip;</td><td>&hellip;</td><td>&hellip;</td><td>&hellip;</td><td>&hellip;</td><td>&hellip;</td><td>&hellip;</td><td>&hellip;</td><td>&hellip;</td><td>&hellip;</td><td>&hellip;</td><td>&hellip;</td><td>&hellip;</td><td>&hellip;</td><td>&hellip;</td><td>&hellip;</td><td>&hellip;</td><td>&hellip;</td><td>&hellip;</td><td>&hellip;</td><td>&hellip;</td></tr><tr><td>8422220160159602342</td><td>1</td><td>&quot;Готовые и бесплатно и видации …</td><td>1</td><td>1373857134</td><td>15901</td><td>38</td><td>-1258870999</td><td>229</td><td>-9158995094684353950</td><td>0</td><td>44</td><td>7</td><td>&quot;https://produkty%2Fbonprix.ru%…</td><td>&quot;http://tambov.irr.ua/yandsearc…</td><td>1</td><td>10282</td><td>995</td><td>15014</td><td>519</td><td>1917</td><td>554</td><td>37</td><td>15</td><td>7</td><td>&quot;800.94&quot;</td><td>0</td><td>0</td><td>12</td><td>&quot;D�&quot;</td><td>1</td><td>1</td><td>0</td><td>0</td><td>&quot;&quot;</td><td>&quot;&quot;</td><td>2095433</td><td>&hellip;</td><td>0</td><td>0</td><td>-1390473950</td><td>-1</td><td>-1</td><td>-1</td><td>&quot;S0&quot;</td><td>&quot;h1&quot;</td><td>&quot;&quot;</td><td>&quot;&quot;</td><td>0</td><td>0</td><td>0</td><td>0</td><td>0</td><td>0</td><td>0</td><td>0</td><td>&quot;&quot;</td><td>0</td><td>&quot;&quot;</td><td>&quot;NH\u001c&quot;</td><td>0</td><td>&quot;&quot;</td><td>&quot;&quot;</td><td>&quot;&quot;</td><td>&quot;&quot;</td><td>&quot;&quot;</td><td>&quot;&quot;</td><td>&quot;&quot;</td><td>&quot;&quot;</td><td>&quot;&quot;</td><td>&quot;&quot;</td><td>0</td><td>5794128528423174356</td><td>6461229270374342553</td><td>0</td></tr><tr><td>8490007186786598290</td><td>1</td><td>&quot;Готовые и бесплатно и видации …</td><td>1</td><td>1373857134</td><td>15901</td><td>38</td><td>-1258870999</td><td>229</td><td>-9158995094684353950</td><td>0</td><td>44</td><td>7</td><td>&quot;https://produkty%2Fbonprix.ru%…</td><td>&quot;&quot;</td><td>0</td><td>0</td><td>0</td><td>15014</td><td>519</td><td>1917</td><td>554</td><td>37</td><td>15</td><td>7</td><td>&quot;800.94&quot;</td><td>0</td><td>0</td><td>12</td><td>&quot;D�&quot;</td><td>1</td><td>1</td><td>0</td><td>0</td><td>&quot;&quot;</td><td>&quot;&quot;</td><td>2095433</td><td>&hellip;</td><td>0</td><td>0</td><td>-1390473950</td><td>-1</td><td>-1</td><td>-1</td><td>&quot;S0&quot;</td><td>&quot;h1&quot;</td><td>&quot;&quot;</td><td>&quot;&quot;</td><td>0</td><td>0</td><td>0</td><td>0</td><td>175</td><td>11</td><td>52</td><td>0</td><td>&quot;&quot;</td><td>0</td><td>&quot;&quot;</td><td>&quot;NH\u001c&quot;</td><td>0</td><td>&quot;&quot;</td><td>&quot;&quot;</td><td>&quot;&quot;</td><td>&quot;&quot;</td><td>&quot;ad_cpamarketin&quot;</td><td>&quot;look&quot;</td><td>&quot;zarplatya_content_AUTO_TO_EXCH…</td><td>&quot;5minus&quot;</td><td>&quot;вакансии&quot;</td><td>&quot;&quot;</td><td>1</td><td>-296158784638538920</td><td>6461229270374342553</td><td>0</td></tr><tr><td>5273827533266658288</td><td>1</td><td>&quot;Готовые и бесплатно и видации …</td><td>1</td><td>1373857262</td><td>15901</td><td>38</td><td>-1258870999</td><td>229</td><td>-9158995094684353950</td><td>0</td><td>44</td><td>7</td><td>&quot;https://produkty%2Fbonprix.ru%…</td><td>&quot;http://tambov.irr.ua/yandsearc…</td><td>1</td><td>10282</td><td>995</td><td>15014</td><td>519</td><td>1917</td><td>554</td><td>37</td><td>15</td><td>7</td><td>&quot;800.94&quot;</td><td>0</td><td>0</td><td>12</td><td>&quot;D�&quot;</td><td>1</td><td>1</td><td>0</td><td>0</td><td>&quot;&quot;</td><td>&quot;&quot;</td><td>2095433</td><td>&hellip;</td><td>0</td><td>0</td><td>-1390473950</td><td>-1</td><td>-1</td><td>-1</td><td>&quot;S0&quot;</td><td>&quot;h1&quot;</td><td>&quot;&quot;</td><td>&quot;&quot;</td><td>0</td><td>0</td><td>0</td><td>0</td><td>0</td><td>0</td><td>0</td><td>0</td><td>&quot;&quot;</td><td>0</td><td>&quot;&quot;</td><td>&quot;NH\u001c&quot;</td><td>0</td><td>&quot;&quot;</td><td>&quot;&quot;</td><td>&quot;&quot;</td><td>&quot;&quot;</td><td>&quot;&quot;</td><td>&quot;&quot;</td><td>&quot;&quot;</td><td>&quot;&quot;</td><td>&quot;&quot;</td><td>&quot;&quot;</td><td>0</td><td>5794128528423174356</td><td>6461229270374342553</td><td>0</td></tr><tr><td>8844652671814939263</td><td>1</td><td>&quot;Готовые и бесплатно и видации …</td><td>1</td><td>1373857262</td><td>15901</td><td>38</td><td>-1258870999</td><td>229</td><td>-9158995094684353950</td><td>0</td><td>44</td><td>7</td><td>&quot;https://produkty%2Fbonprix.ru%…</td><td>&quot;&quot;</td><td>0</td><td>0</td><td>0</td><td>15014</td><td>519</td><td>1917</td><td>554</td><td>37</td><td>15</td><td>7</td><td>&quot;800.94&quot;</td><td>0</td><td>0</td><td>12</td><td>&quot;D�&quot;</td><td>1</td><td>1</td><td>0</td><td>0</td><td>&quot;&quot;</td><td>&quot;&quot;</td><td>2095433</td><td>&hellip;</td><td>0</td><td>0</td><td>-1390473950</td><td>-1</td><td>-1</td><td>-1</td><td>&quot;S0&quot;</td><td>&quot;h1&quot;</td><td>&quot;&quot;</td><td>&quot;&quot;</td><td>0</td><td>0</td><td>0</td><td>0</td><td>141</td><td>31</td><td>57</td><td>0</td><td>&quot;&quot;</td><td>0</td><td>&quot;&quot;</td><td>&quot;NH\u001c&quot;</td><td>0</td><td>&quot;&quot;</td><td>&quot;&quot;</td><td>&quot;&quot;</td><td>&quot;&quot;</td><td>&quot;ad_cpamarketin&quot;</td><td>&quot;look&quot;</td><td>&quot;zarplatya_content_AUTO_TO_EXCH…</td><td>&quot;5minus&quot;</td><td>&quot;вакансии&quot;</td><td>&quot;&quot;</td><td>1</td><td>-296158784638538920</td><td>6461229270374342553</td><td>0</td></tr><tr><td>5224211275984841314</td><td>1</td><td>&quot;Готовые и бесплатно и видео дн…</td><td>1</td><td>1373857303</td><td>15901</td><td>38</td><td>-1258870999</td><td>229</td><td>-9158995094684353950</td><td>0</td><td>44</td><td>7</td><td>&quot;https://produkty%2Fbonprix.ru%…</td><td>&quot;&quot;</td><td>1</td><td>0</td><td>0</td><td>15014</td><td>519</td><td>1917</td><td>554</td><td>37</td><td>15</td><td>7</td><td>&quot;800.94&quot;</td><td>0</td><td>0</td><td>12</td><td>&quot;D�&quot;</td><td>1</td><td>1</td><td>0</td><td>0</td><td>&quot;&quot;</td><td>&quot;&quot;</td><td>2095433</td><td>&hellip;</td><td>0</td><td>0</td><td>-1390473950</td><td>-1</td><td>-1</td><td>-1</td><td>&quot;S0&quot;</td><td>&quot;h1&quot;</td><td>&quot;&quot;</td><td>&quot;&quot;</td><td>0</td><td>0</td><td>0</td><td>0</td><td>220</td><td>8</td><td>24</td><td>0</td><td>&quot;&quot;</td><td>0</td><td>&quot;&quot;</td><td>&quot;NH\u001c&quot;</td><td>0</td><td>&quot;&quot;</td><td>&quot;&quot;</td><td>&quot;&quot;</td><td>&quot;&quot;</td><td>&quot;ad_cpamarketin&quot;</td><td>&quot;look&quot;</td><td>&quot;zarplatya_content_AUTO_TO_EXCH…</td><td>&quot;5minus&quot;</td><td>&quot;вакансии&quot;</td><td>&quot;&quot;</td><td>1</td><td>-296158784638538920</td><td>-954777248360949113</td><td>0</td></tr></tbody></table></div>"
      ],
      "text/plain": [
       "shape: (100, 105)\n",
       "┌────────────┬────────────┬────────────┬───────────┬───┬──────────┬────────────┬────────────┬──────┐\n",
       "│ WatchID    ┆ JavaEnable ┆ Title      ┆ GoodEvent ┆ … ┆ HasGCLID ┆ RefererHas ┆ URLHash    ┆ CLID │\n",
       "│ ---        ┆ ---        ┆ ---        ┆ ---       ┆   ┆ ---      ┆ h          ┆ ---        ┆ ---  │\n",
       "│ i64        ┆ i16        ┆ str        ┆ i16       ┆   ┆ i16      ┆ ---        ┆ i64        ┆ i32  │\n",
       "│            ┆            ┆            ┆           ┆   ┆          ┆ i64        ┆            ┆      │\n",
       "╞════════════╪════════════╪════════════╪═══════════╪═══╪══════════╪════════════╪════════════╪══════╡\n",
       "│ 9110818468 ┆ 0          ┆            ┆ 1         ┆ … ┆ 0        ┆ -296158784 ┆ -841768200 ┆ 0    │\n",
       "│ 285196899  ┆            ┆            ┆           ┆   ┆          ┆ 638538920  ┆ 3818480435 ┆      │\n",
       "│ 8156744413 ┆ 0          ┆            ┆ 1         ┆ … ┆ 0        ┆ -296158784 ┆ -841768200 ┆ 0    │\n",
       "│ 230856864  ┆            ┆            ┆           ┆   ┆          ┆ 638538920  ┆ 3818480435 ┆      │\n",
       "│ 5206346422 ┆ 0          ┆            ┆ 1         ┆ … ┆ 0        ┆ -296158784 ┆ -841768200 ┆ 0    │\n",
       "│ 301499756  ┆            ┆            ┆           ┆   ┆          ┆ 638538920  ┆ 3818480435 ┆      │\n",
       "│ 6308646140 ┆ 0          ┆            ┆ 1         ┆ … ┆ 0        ┆ -296158784 ┆ -841768200 ┆ 0    │\n",
       "│ 879811077  ┆            ┆            ┆           ┆   ┆          ┆ 638538920  ┆ 3818480435 ┆      │\n",
       "│ 8740403056 ┆ 0          ┆            ┆ 1         ┆ … ┆ 0        ┆ -296158784 ┆ 7346197697 ┆ 0    │\n",
       "│ 911509777  ┆            ┆            ┆           ┆   ┆          ┆ 638538920  ┆ 999278734  ┆      │\n",
       "│ …          ┆ …          ┆ …          ┆ …         ┆ … ┆ …        ┆ …          ┆ …          ┆ …    │\n",
       "│ 8422220160 ┆ 1          ┆ Готовые и  ┆ 1         ┆ … ┆ 0        ┆ 5794128528 ┆ 6461229270 ┆ 0    │\n",
       "│ 159602342  ┆            ┆ бесплатно  ┆           ┆   ┆          ┆ 423174356  ┆ 374342553  ┆      │\n",
       "│            ┆            ┆ и видации  ┆           ┆   ┆          ┆            ┆            ┆      │\n",
       "│            ┆            ┆ …          ┆           ┆   ┆          ┆            ┆            ┆      │\n",
       "│ 8490007186 ┆ 1          ┆ Готовые и  ┆ 1         ┆ … ┆ 1        ┆ -296158784 ┆ 6461229270 ┆ 0    │\n",
       "│ 786598290  ┆            ┆ бесплатно  ┆           ┆   ┆          ┆ 638538920  ┆ 374342553  ┆      │\n",
       "│            ┆            ┆ и видации  ┆           ┆   ┆          ┆            ┆            ┆      │\n",
       "│            ┆            ┆ …          ┆           ┆   ┆          ┆            ┆            ┆      │\n",
       "│ 5273827533 ┆ 1          ┆ Готовые и  ┆ 1         ┆ … ┆ 0        ┆ 5794128528 ┆ 6461229270 ┆ 0    │\n",
       "│ 266658288  ┆            ┆ бесплатно  ┆           ┆   ┆          ┆ 423174356  ┆ 374342553  ┆      │\n",
       "│            ┆            ┆ и видации  ┆           ┆   ┆          ┆            ┆            ┆      │\n",
       "│            ┆            ┆ …          ┆           ┆   ┆          ┆            ┆            ┆      │\n",
       "│ 8844652671 ┆ 1          ┆ Готовые и  ┆ 1         ┆ … ┆ 1        ┆ -296158784 ┆ 6461229270 ┆ 0    │\n",
       "│ 814939263  ┆            ┆ бесплатно  ┆           ┆   ┆          ┆ 638538920  ┆ 374342553  ┆      │\n",
       "│            ┆            ┆ и видации  ┆           ┆   ┆          ┆            ┆            ┆      │\n",
       "│            ┆            ┆ …          ┆           ┆   ┆          ┆            ┆            ┆      │\n",
       "│ 5224211275 ┆ 1          ┆ Готовые и  ┆ 1         ┆ … ┆ 1        ┆ -296158784 ┆ -954777248 ┆ 0    │\n",
       "│ 984841314  ┆            ┆ бесплатно  ┆           ┆   ┆          ┆ 638538920  ┆ 360949113  ┆      │\n",
       "│            ┆            ┆ и видео    ┆           ┆   ┆          ┆            ┆            ┆      │\n",
       "│            ┆            ┆ дн…        ┆           ┆   ┆          ┆            ┆            ┆      │\n",
       "└────────────┴────────────┴────────────┴───────────┴───┴──────────┴────────────┴────────────┴──────┘"
      ]
     },
     "execution_count": 3,
     "metadata": {},
     "output_type": "execute_result"
    }
   ],
   "source": [
    "df = pl.read_parquet(\"data/raw/clickbench.parquet\")\n",
    "df.head(100)"
   ]
  },
  {
   "cell_type": "code",
   "execution_count": 4,
   "metadata": {},
   "outputs": [
    {
     "data": {
      "text/html": [
       "<div><style>\n",
       ".dataframe > thead > tr,\n",
       ".dataframe > tbody > tr {\n",
       "  text-align: right;\n",
       "  white-space: pre-wrap;\n",
       "}\n",
       "</style>\n",
       "<small>shape: (1_000, 105)</small><table border=\"1\" class=\"dataframe\"><thead><tr><th>WatchID</th><th>JavaEnable</th><th>Title</th><th>GoodEvent</th><th>EventTime</th><th>EventDate</th><th>CounterID</th><th>ClientIP</th><th>RegionID</th><th>UserID</th><th>CounterClass</th><th>OS</th><th>UserAgent</th><th>URL</th><th>Referer</th><th>IsRefresh</th><th>RefererCategoryID</th><th>RefererRegionID</th><th>URLCategoryID</th><th>URLRegionID</th><th>ResolutionWidth</th><th>ResolutionHeight</th><th>ResolutionDepth</th><th>FlashMajor</th><th>FlashMinor</th><th>FlashMinor2</th><th>NetMajor</th><th>NetMinor</th><th>UserAgentMajor</th><th>UserAgentMinor</th><th>CookieEnable</th><th>JavascriptEnable</th><th>IsMobile</th><th>MobilePhone</th><th>MobilePhoneModel</th><th>Params</th><th>IPNetworkID</th><th>&hellip;</th><th>Interests</th><th>Robotness</th><th>RemoteIP</th><th>WindowName</th><th>OpenerName</th><th>HistoryLength</th><th>BrowserLanguage</th><th>BrowserCountry</th><th>SocialNetwork</th><th>SocialAction</th><th>HTTPError</th><th>SendTiming</th><th>DNSTiming</th><th>ConnectTiming</th><th>ResponseStartTiming</th><th>ResponseEndTiming</th><th>FetchTiming</th><th>SocialSourceNetworkID</th><th>SocialSourcePage</th><th>ParamPrice</th><th>ParamOrderID</th><th>ParamCurrency</th><th>ParamCurrencyID</th><th>OpenstatServiceName</th><th>OpenstatCampaignID</th><th>OpenstatAdID</th><th>OpenstatSourceID</th><th>UTMSource</th><th>UTMMedium</th><th>UTMCampaign</th><th>UTMContent</th><th>UTMTerm</th><th>FromTag</th><th>HasGCLID</th><th>RefererHash</th><th>URLHash</th><th>CLID</th></tr><tr><td>i64</td><td>i16</td><td>str</td><td>i16</td><td>i64</td><td>u16</td><td>i32</td><td>i32</td><td>i32</td><td>i64</td><td>i16</td><td>i16</td><td>i16</td><td>str</td><td>str</td><td>i16</td><td>i16</td><td>i32</td><td>i16</td><td>i32</td><td>i16</td><td>i16</td><td>i16</td><td>i16</td><td>i16</td><td>str</td><td>i16</td><td>i16</td><td>i16</td><td>str</td><td>i16</td><td>i16</td><td>i16</td><td>i16</td><td>str</td><td>str</td><td>i32</td><td>&hellip;</td><td>i16</td><td>i16</td><td>i32</td><td>i32</td><td>i32</td><td>i16</td><td>str</td><td>str</td><td>str</td><td>str</td><td>i16</td><td>i32</td><td>i32</td><td>i32</td><td>i32</td><td>i32</td><td>i32</td><td>i16</td><td>str</td><td>i64</td><td>str</td><td>str</td><td>i16</td><td>str</td><td>str</td><td>str</td><td>str</td><td>str</td><td>str</td><td>str</td><td>str</td><td>str</td><td>str</td><td>i16</td><td>i64</td><td>i64</td><td>i32</td></tr></thead><tbody><tr><td>9110818468285196899</td><td>0</td><td>&quot;&quot;</td><td>1</td><td>1373834327</td><td>15901</td><td>17</td><td>-1216690514</td><td>839</td><td>-2461439046089301801</td><td>0</td><td>0</td><td>0</td><td>&quot;&quot;</td><td>&quot;&quot;</td><td>0</td><td>0</td><td>0</td><td>0</td><td>0</td><td>0</td><td>0</td><td>0</td><td>0</td><td>0</td><td>&quot;&quot;</td><td>0</td><td>0</td><td>0</td><td>&quot;�O&quot;</td><td>0</td><td>0</td><td>0</td><td>0</td><td>&quot;&quot;</td><td>&quot;&quot;</td><td>3793327</td><td>&hellip;</td><td>0</td><td>0</td><td>-1001831330</td><td>-1</td><td>-1</td><td>-1</td><td>&quot;�&quot;</td><td>&quot;�\f&quot;</td><td>&quot;&quot;</td><td>&quot;&quot;</td><td>0</td><td>0</td><td>0</td><td>0</td><td>0</td><td>0</td><td>0</td><td>0</td><td>&quot;&quot;</td><td>0</td><td>&quot;&quot;</td><td>&quot;NH\u001c&quot;</td><td>0</td><td>&quot;&quot;</td><td>&quot;&quot;</td><td>&quot;&quot;</td><td>&quot;&quot;</td><td>&quot;&quot;</td><td>&quot;&quot;</td><td>&quot;&quot;</td><td>&quot;&quot;</td><td>&quot;&quot;</td><td>&quot;&quot;</td><td>0</td><td>-296158784638538920</td><td>-8417682003818480435</td><td>0</td></tr><tr><td>8156744413230856864</td><td>0</td><td>&quot;&quot;</td><td>1</td><td>1373913230</td><td>15901</td><td>17</td><td>-1216690514</td><td>839</td><td>-2461439046089301801</td><td>0</td><td>0</td><td>0</td><td>&quot;&quot;</td><td>&quot;&quot;</td><td>0</td><td>0</td><td>0</td><td>0</td><td>0</td><td>0</td><td>0</td><td>0</td><td>0</td><td>0</td><td>&quot;&quot;</td><td>0</td><td>0</td><td>0</td><td>&quot;�O&quot;</td><td>0</td><td>0</td><td>0</td><td>0</td><td>&quot;&quot;</td><td>&quot;&quot;</td><td>3793327</td><td>&hellip;</td><td>0</td><td>0</td><td>-1001831330</td><td>-1</td><td>-1</td><td>-1</td><td>&quot;�&quot;</td><td>&quot;�\f&quot;</td><td>&quot;&quot;</td><td>&quot;&quot;</td><td>0</td><td>0</td><td>0</td><td>0</td><td>0</td><td>0</td><td>0</td><td>0</td><td>&quot;&quot;</td><td>0</td><td>&quot;&quot;</td><td>&quot;NH\u001c&quot;</td><td>0</td><td>&quot;&quot;</td><td>&quot;&quot;</td><td>&quot;&quot;</td><td>&quot;&quot;</td><td>&quot;&quot;</td><td>&quot;&quot;</td><td>&quot;&quot;</td><td>&quot;&quot;</td><td>&quot;&quot;</td><td>&quot;&quot;</td><td>0</td><td>-296158784638538920</td><td>-8417682003818480435</td><td>0</td></tr><tr><td>5206346422301499756</td><td>0</td><td>&quot;&quot;</td><td>1</td><td>1373914595</td><td>15901</td><td>17</td><td>-1216690514</td><td>839</td><td>-2461439046089301801</td><td>0</td><td>0</td><td>0</td><td>&quot;&quot;</td><td>&quot;&quot;</td><td>0</td><td>0</td><td>0</td><td>0</td><td>0</td><td>0</td><td>0</td><td>0</td><td>0</td><td>0</td><td>&quot;&quot;</td><td>0</td><td>0</td><td>0</td><td>&quot;�O&quot;</td><td>0</td><td>0</td><td>0</td><td>0</td><td>&quot;&quot;</td><td>&quot;&quot;</td><td>3793327</td><td>&hellip;</td><td>0</td><td>0</td><td>-1001831330</td><td>-1</td><td>-1</td><td>-1</td><td>&quot;�&quot;</td><td>&quot;�\f&quot;</td><td>&quot;&quot;</td><td>&quot;&quot;</td><td>0</td><td>0</td><td>0</td><td>0</td><td>0</td><td>0</td><td>0</td><td>0</td><td>&quot;&quot;</td><td>0</td><td>&quot;&quot;</td><td>&quot;NH\u001c&quot;</td><td>0</td><td>&quot;&quot;</td><td>&quot;&quot;</td><td>&quot;&quot;</td><td>&quot;&quot;</td><td>&quot;&quot;</td><td>&quot;&quot;</td><td>&quot;&quot;</td><td>&quot;&quot;</td><td>&quot;&quot;</td><td>&quot;&quot;</td><td>0</td><td>-296158784638538920</td><td>-8417682003818480435</td><td>0</td></tr><tr><td>6308646140879811077</td><td>0</td><td>&quot;&quot;</td><td>1</td><td>1373914712</td><td>15901</td><td>17</td><td>-1216690514</td><td>839</td><td>-2461439046089301801</td><td>0</td><td>0</td><td>0</td><td>&quot;&quot;</td><td>&quot;&quot;</td><td>0</td><td>0</td><td>0</td><td>0</td><td>0</td><td>0</td><td>0</td><td>0</td><td>0</td><td>0</td><td>&quot;&quot;</td><td>0</td><td>0</td><td>0</td><td>&quot;�O&quot;</td><td>0</td><td>0</td><td>0</td><td>0</td><td>&quot;&quot;</td><td>&quot;&quot;</td><td>3793327</td><td>&hellip;</td><td>0</td><td>0</td><td>-1001831330</td><td>-1</td><td>-1</td><td>-1</td><td>&quot;�&quot;</td><td>&quot;�\f&quot;</td><td>&quot;&quot;</td><td>&quot;&quot;</td><td>0</td><td>0</td><td>0</td><td>0</td><td>0</td><td>0</td><td>0</td><td>0</td><td>&quot;&quot;</td><td>0</td><td>&quot;&quot;</td><td>&quot;NH\u001c&quot;</td><td>0</td><td>&quot;&quot;</td><td>&quot;&quot;</td><td>&quot;&quot;</td><td>&quot;&quot;</td><td>&quot;&quot;</td><td>&quot;&quot;</td><td>&quot;&quot;</td><td>&quot;&quot;</td><td>&quot;&quot;</td><td>&quot;&quot;</td><td>0</td><td>-296158784638538920</td><td>-8417682003818480435</td><td>0</td></tr><tr><td>8740403056911509777</td><td>0</td><td>&quot;&quot;</td><td>1</td><td>1373833834</td><td>15901</td><td>17</td><td>1615432634</td><td>39</td><td>376160620089546609</td><td>0</td><td>2</td><td>7</td><td>&quot;http://holodilnik.ru/russia/05…</td><td>&quot;&quot;</td><td>0</td><td>0</td><td>0</td><td>14764</td><td>22</td><td>0</td><td>0</td><td>0</td><td>0</td><td>0</td><td>&quot;&quot;</td><td>2</td><td>7</td><td>13</td><td>&quot;D�&quot;</td><td>1</td><td>0</td><td>0</td><td>0</td><td>&quot;&quot;</td><td>&quot;&quot;</td><td>3761292</td><td>&hellip;</td><td>15014</td><td>2</td><td>1312025145</td><td>-1</td><td>-1</td><td>-1</td><td>&quot;�&quot;</td><td>&quot;�\f&quot;</td><td>&quot;&quot;</td><td>&quot;&quot;</td><td>0</td><td>0</td><td>0</td><td>0</td><td>0</td><td>0</td><td>0</td><td>0</td><td>&quot;&quot;</td><td>0</td><td>&quot;&quot;</td><td>&quot;NH\u001c&quot;</td><td>0</td><td>&quot;&quot;</td><td>&quot;&quot;</td><td>&quot;&quot;</td><td>&quot;&quot;</td><td>&quot;&quot;</td><td>&quot;&quot;</td><td>&quot;&quot;</td><td>&quot;&quot;</td><td>&quot;&quot;</td><td>&quot;&quot;</td><td>0</td><td>-296158784638538920</td><td>7346197697999278734</td><td>0</td></tr><tr><td>&hellip;</td><td>&hellip;</td><td>&hellip;</td><td>&hellip;</td><td>&hellip;</td><td>&hellip;</td><td>&hellip;</td><td>&hellip;</td><td>&hellip;</td><td>&hellip;</td><td>&hellip;</td><td>&hellip;</td><td>&hellip;</td><td>&hellip;</td><td>&hellip;</td><td>&hellip;</td><td>&hellip;</td><td>&hellip;</td><td>&hellip;</td><td>&hellip;</td><td>&hellip;</td><td>&hellip;</td><td>&hellip;</td><td>&hellip;</td><td>&hellip;</td><td>&hellip;</td><td>&hellip;</td><td>&hellip;</td><td>&hellip;</td><td>&hellip;</td><td>&hellip;</td><td>&hellip;</td><td>&hellip;</td><td>&hellip;</td><td>&hellip;</td><td>&hellip;</td><td>&hellip;</td><td>&hellip;</td><td>&hellip;</td><td>&hellip;</td><td>&hellip;</td><td>&hellip;</td><td>&hellip;</td><td>&hellip;</td><td>&hellip;</td><td>&hellip;</td><td>&hellip;</td><td>&hellip;</td><td>&hellip;</td><td>&hellip;</td><td>&hellip;</td><td>&hellip;</td><td>&hellip;</td><td>&hellip;</td><td>&hellip;</td><td>&hellip;</td><td>&hellip;</td><td>&hellip;</td><td>&hellip;</td><td>&hellip;</td><td>&hellip;</td><td>&hellip;</td><td>&hellip;</td><td>&hellip;</td><td>&hellip;</td><td>&hellip;</td><td>&hellip;</td><td>&hellip;</td><td>&hellip;</td><td>&hellip;</td><td>&hellip;</td><td>&hellip;</td><td>&hellip;</td><td>&hellip;</td><td>&hellip;</td></tr><tr><td>5056510081939259123</td><td>1</td><td>&quot;Convent-менеджерринадлежности …</td><td>1</td><td>1373838526</td><td>15901</td><td>38</td><td>2107723744</td><td>229</td><td>-8906290752198210953</td><td>0</td><td>126</td><td>7</td><td>&quot;https://produkty%2Fpulove.ru/k…</td><td>&quot;http://tambov.irr.ru/regist%2F…</td><td>1</td><td>10282</td><td>995</td><td>15014</td><td>519</td><td>1828</td><td>1126</td><td>37</td><td>15</td><td>13</td><td>&quot;700.2249&quot;</td><td>0</td><td>0</td><td>12</td><td>&quot;D�&quot;</td><td>1</td><td>1</td><td>0</td><td>0</td><td>&quot;&quot;</td><td>&quot;&quot;</td><td>2335616</td><td>&hellip;</td><td>0</td><td>0</td><td>1831008533</td><td>-1</td><td>-1</td><td>-1</td><td>&quot;S0&quot;</td><td>&quot;h1&quot;</td><td>&quot;&quot;</td><td>&quot;&quot;</td><td>0</td><td>0</td><td>0</td><td>0</td><td>395</td><td>135</td><td>0</td><td>0</td><td>&quot;&quot;</td><td>0</td><td>&quot;&quot;</td><td>&quot;NH\u001c&quot;</td><td>0</td><td>&quot;&quot;</td><td>&quot;&quot;</td><td>&quot;&quot;</td><td>&quot;&quot;</td><td>&quot;&quot;</td><td>&quot;&quot;</td><td>&quot;&quot;</td><td>&quot;&quot;</td><td>&quot;&quot;</td><td>&quot;&quot;</td><td>0</td><td>8158929633705062140</td><td>1378361056961738043</td><td>0</td></tr><tr><td>9041290697090576177</td><td>1</td><td>&quot;Convent-менеджерринадлежности …</td><td>1</td><td>1373838526</td><td>15901</td><td>38</td><td>2107723744</td><td>229</td><td>-8906290752198210953</td><td>0</td><td>126</td><td>7</td><td>&quot;https://produkty%2Fpulove.ru/k…</td><td>&quot;http://tambov.irr.ru/regist%2F…</td><td>0</td><td>10282</td><td>995</td><td>15014</td><td>519</td><td>1828</td><td>1126</td><td>37</td><td>15</td><td>13</td><td>&quot;700.2249&quot;</td><td>0</td><td>0</td><td>12</td><td>&quot;D�&quot;</td><td>1</td><td>1</td><td>0</td><td>0</td><td>&quot;&quot;</td><td>&quot;&quot;</td><td>2335616</td><td>&hellip;</td><td>0</td><td>0</td><td>1831008533</td><td>-1</td><td>-1</td><td>-1</td><td>&quot;S0&quot;</td><td>&quot;h1&quot;</td><td>&quot;&quot;</td><td>&quot;&quot;</td><td>0</td><td>0</td><td>0</td><td>0</td><td>0</td><td>0</td><td>0</td><td>0</td><td>&quot;&quot;</td><td>0</td><td>&quot;&quot;</td><td>&quot;NH\u001c&quot;</td><td>0</td><td>&quot;&quot;</td><td>&quot;&quot;</td><td>&quot;&quot;</td><td>&quot;&quot;</td><td>&quot;&quot;</td><td>&quot;&quot;</td><td>&quot;&quot;</td><td>&quot;&quot;</td><td>&quot;&quot;</td><td>&quot;&quot;</td><td>0</td><td>8158929633705062140</td><td>1378361056961738043</td><td>0</td></tr><tr><td>8038244332173868645</td><td>1</td><td>&quot;Аркада Елена для работа в Омск…</td><td>1</td><td>1373838555</td><td>15901</td><td>38</td><td>2107723744</td><td>229</td><td>-8906290752198210953</td><td>0</td><td>126</td><td>7</td><td>&quot;https://produkty%2Fpulove.ru/k…</td><td>&quot;http://tambov.irr.ru/regist%2F…</td><td>0</td><td>10282</td><td>995</td><td>15014</td><td>519</td><td>1828</td><td>1126</td><td>37</td><td>15</td><td>13</td><td>&quot;700.2249&quot;</td><td>0</td><td>0</td><td>12</td><td>&quot;D�&quot;</td><td>1</td><td>1</td><td>0</td><td>0</td><td>&quot;&quot;</td><td>&quot;&quot;</td><td>2335616</td><td>&hellip;</td><td>0</td><td>0</td><td>1831008533</td><td>-1</td><td>-1</td><td>-1</td><td>&quot;S0&quot;</td><td>&quot;h1&quot;</td><td>&quot;&quot;</td><td>&quot;&quot;</td><td>0</td><td>0</td><td>0</td><td>0</td><td>0</td><td>0</td><td>0</td><td>0</td><td>&quot;&quot;</td><td>0</td><td>&quot;&quot;</td><td>&quot;NH\u001c&quot;</td><td>0</td><td>&quot;&quot;</td><td>&quot;&quot;</td><td>&quot;&quot;</td><td>&quot;&quot;</td><td>&quot;&quot;</td><td>&quot;&quot;</td><td>&quot;&quot;</td><td>&quot;&quot;</td><td>&quot;&quot;</td><td>&quot;&quot;</td><td>0</td><td>-7558775094223108570</td><td>2760737050088206501</td><td>0</td></tr><tr><td>8995266532089408984</td><td>1</td><td>&quot;Аркада Елена для работа в Омск…</td><td>1</td><td>1373838555</td><td>15901</td><td>38</td><td>2107723744</td><td>229</td><td>-8906290752198210953</td><td>0</td><td>126</td><td>7</td><td>&quot;https://produkty%2Fpulove.ru/k…</td><td>&quot;http://tambov.irr.ru/regist%2F…</td><td>1</td><td>10282</td><td>995</td><td>15014</td><td>519</td><td>1828</td><td>1126</td><td>37</td><td>15</td><td>13</td><td>&quot;700.2249&quot;</td><td>0</td><td>0</td><td>12</td><td>&quot;D�&quot;</td><td>1</td><td>1</td><td>0</td><td>0</td><td>&quot;&quot;</td><td>&quot;&quot;</td><td>2335616</td><td>&hellip;</td><td>0</td><td>0</td><td>1831008533</td><td>-1</td><td>-1</td><td>-1</td><td>&quot;S0&quot;</td><td>&quot;h1&quot;</td><td>&quot;&quot;</td><td>&quot;&quot;</td><td>0</td><td>0</td><td>0</td><td>0</td><td>0</td><td>0</td><td>0</td><td>0</td><td>&quot;&quot;</td><td>0</td><td>&quot;&quot;</td><td>&quot;NH\u001c&quot;</td><td>0</td><td>&quot;&quot;</td><td>&quot;&quot;</td><td>&quot;&quot;</td><td>&quot;&quot;</td><td>&quot;&quot;</td><td>&quot;&quot;</td><td>&quot;&quot;</td><td>&quot;&quot;</td><td>&quot;&quot;</td><td>&quot;&quot;</td><td>0</td><td>-7558775094223108570</td><td>2760737050088206501</td><td>0</td></tr><tr><td>5255425332142811331</td><td>1</td><td>&quot;Аркада Елена для работа в Омск…</td><td>1</td><td>1373838603</td><td>15901</td><td>38</td><td>2107723744</td><td>229</td><td>-8906290752198210953</td><td>0</td><td>126</td><td>7</td><td>&quot;https://produkty%2Fpulove.ru/k…</td><td>&quot;http://tambov.irr.ru/regist%2F…</td><td>1</td><td>10282</td><td>995</td><td>15014</td><td>519</td><td>1828</td><td>1126</td><td>37</td><td>15</td><td>13</td><td>&quot;700.2249&quot;</td><td>0</td><td>0</td><td>12</td><td>&quot;D�&quot;</td><td>1</td><td>1</td><td>0</td><td>0</td><td>&quot;&quot;</td><td>&quot;&quot;</td><td>2335616</td><td>&hellip;</td><td>0</td><td>0</td><td>1831008533</td><td>-1</td><td>-1</td><td>-1</td><td>&quot;S0&quot;</td><td>&quot;h1&quot;</td><td>&quot;&quot;</td><td>&quot;&quot;</td><td>0</td><td>0</td><td>0</td><td>0</td><td>496</td><td>351</td><td>0</td><td>0</td><td>&quot;&quot;</td><td>0</td><td>&quot;&quot;</td><td>&quot;NH\u001c&quot;</td><td>0</td><td>&quot;&quot;</td><td>&quot;&quot;</td><td>&quot;&quot;</td><td>&quot;&quot;</td><td>&quot;&quot;</td><td>&quot;&quot;</td><td>&quot;&quot;</td><td>&quot;&quot;</td><td>&quot;&quot;</td><td>&quot;&quot;</td><td>0</td><td>2654927275665337609</td><td>6278079623449390450</td><td>0</td></tr></tbody></table></div>"
      ],
      "text/plain": [
       "shape: (1_000, 105)\n",
       "┌────────────┬────────────┬────────────┬───────────┬───┬──────────┬────────────┬────────────┬──────┐\n",
       "│ WatchID    ┆ JavaEnable ┆ Title      ┆ GoodEvent ┆ … ┆ HasGCLID ┆ RefererHas ┆ URLHash    ┆ CLID │\n",
       "│ ---        ┆ ---        ┆ ---        ┆ ---       ┆   ┆ ---      ┆ h          ┆ ---        ┆ ---  │\n",
       "│ i64        ┆ i16        ┆ str        ┆ i16       ┆   ┆ i16      ┆ ---        ┆ i64        ┆ i32  │\n",
       "│            ┆            ┆            ┆           ┆   ┆          ┆ i64        ┆            ┆      │\n",
       "╞════════════╪════════════╪════════════╪═══════════╪═══╪══════════╪════════════╪════════════╪══════╡\n",
       "│ 9110818468 ┆ 0          ┆            ┆ 1         ┆ … ┆ 0        ┆ -296158784 ┆ -841768200 ┆ 0    │\n",
       "│ 285196899  ┆            ┆            ┆           ┆   ┆          ┆ 638538920  ┆ 3818480435 ┆      │\n",
       "│ 8156744413 ┆ 0          ┆            ┆ 1         ┆ … ┆ 0        ┆ -296158784 ┆ -841768200 ┆ 0    │\n",
       "│ 230856864  ┆            ┆            ┆           ┆   ┆          ┆ 638538920  ┆ 3818480435 ┆      │\n",
       "│ 5206346422 ┆ 0          ┆            ┆ 1         ┆ … ┆ 0        ┆ -296158784 ┆ -841768200 ┆ 0    │\n",
       "│ 301499756  ┆            ┆            ┆           ┆   ┆          ┆ 638538920  ┆ 3818480435 ┆      │\n",
       "│ 6308646140 ┆ 0          ┆            ┆ 1         ┆ … ┆ 0        ┆ -296158784 ┆ -841768200 ┆ 0    │\n",
       "│ 879811077  ┆            ┆            ┆           ┆   ┆          ┆ 638538920  ┆ 3818480435 ┆      │\n",
       "│ 8740403056 ┆ 0          ┆            ┆ 1         ┆ … ┆ 0        ┆ -296158784 ┆ 7346197697 ┆ 0    │\n",
       "│ 911509777  ┆            ┆            ┆           ┆   ┆          ┆ 638538920  ┆ 999278734  ┆      │\n",
       "│ …          ┆ …          ┆ …          ┆ …         ┆ … ┆ …        ┆ …          ┆ …          ┆ …    │\n",
       "│ 5056510081 ┆ 1          ┆ Convent-ме ┆ 1         ┆ … ┆ 0        ┆ 8158929633 ┆ 1378361056 ┆ 0    │\n",
       "│ 939259123  ┆            ┆ неджеррина ┆           ┆   ┆          ┆ 705062140  ┆ 961738043  ┆      │\n",
       "│            ┆            ┆ длежности  ┆           ┆   ┆          ┆            ┆            ┆      │\n",
       "│            ┆            ┆ …          ┆           ┆   ┆          ┆            ┆            ┆      │\n",
       "│ 9041290697 ┆ 1          ┆ Convent-ме ┆ 1         ┆ … ┆ 0        ┆ 8158929633 ┆ 1378361056 ┆ 0    │\n",
       "│ 090576177  ┆            ┆ неджеррина ┆           ┆   ┆          ┆ 705062140  ┆ 961738043  ┆      │\n",
       "│            ┆            ┆ длежности  ┆           ┆   ┆          ┆            ┆            ┆      │\n",
       "│            ┆            ┆ …          ┆           ┆   ┆          ┆            ┆            ┆      │\n",
       "│ 8038244332 ┆ 1          ┆ Аркада     ┆ 1         ┆ … ┆ 0        ┆ -755877509 ┆ 2760737050 ┆ 0    │\n",
       "│ 173868645  ┆            ┆ Елена для  ┆           ┆   ┆          ┆ 4223108570 ┆ 088206501  ┆      │\n",
       "│            ┆            ┆ работа в   ┆           ┆   ┆          ┆            ┆            ┆      │\n",
       "│            ┆            ┆ Омск…      ┆           ┆   ┆          ┆            ┆            ┆      │\n",
       "│ 8995266532 ┆ 1          ┆ Аркада     ┆ 1         ┆ … ┆ 0        ┆ -755877509 ┆ 2760737050 ┆ 0    │\n",
       "│ 089408984  ┆            ┆ Елена для  ┆           ┆   ┆          ┆ 4223108570 ┆ 088206501  ┆      │\n",
       "│            ┆            ┆ работа в   ┆           ┆   ┆          ┆            ┆            ┆      │\n",
       "│            ┆            ┆ Омск…      ┆           ┆   ┆          ┆            ┆            ┆      │\n",
       "│ 5255425332 ┆ 1          ┆ Аркада     ┆ 1         ┆ … ┆ 0        ┆ 2654927275 ┆ 6278079623 ┆ 0    │\n",
       "│ 142811331  ┆            ┆ Елена для  ┆           ┆   ┆          ┆ 665337609  ┆ 449390450  ┆      │\n",
       "│            ┆            ┆ работа в   ┆           ┆   ┆          ┆            ┆            ┆      │\n",
       "│            ┆            ┆ Омск…      ┆           ┆   ┆          ┆            ┆            ┆      │\n",
       "└────────────┴────────────┴────────────┴───────────┴───┴──────────┴────────────┴────────────┴──────┘"
      ]
     },
     "execution_count": 4,
     "metadata": {},
     "output_type": "execute_result"
    }
   ],
   "source": [
    "df.head(1000)"
   ]
  },
  {
   "cell_type": "code",
   "execution_count": 17,
   "metadata": {},
   "outputs": [
    {
     "data": {
      "text/html": [
       "<div>\n",
       "<style scoped>\n",
       "    .dataframe tbody tr th:only-of-type {\n",
       "        vertical-align: middle;\n",
       "    }\n",
       "\n",
       "    .dataframe tbody tr th {\n",
       "        vertical-align: top;\n",
       "    }\n",
       "\n",
       "    .dataframe thead th {\n",
       "        text-align: right;\n",
       "    }\n",
       "</style>\n",
       "<table border=\"1\" class=\"dataframe\">\n",
       "  <thead>\n",
       "    <tr style=\"text-align: right;\">\n",
       "      <th></th>\n",
       "      <th>imageFile</th>\n",
       "    </tr>\n",
       "  </thead>\n",
       "  <tbody>\n",
       "    <tr>\n",
       "      <th>count</th>\n",
       "      <td>2.177397e+06</td>\n",
       "    </tr>\n",
       "    <tr>\n",
       "      <th>mean</th>\n",
       "      <td>2.192533e+01</td>\n",
       "    </tr>\n",
       "    <tr>\n",
       "      <th>std</th>\n",
       "      <td>4.398633e-01</td>\n",
       "    </tr>\n",
       "    <tr>\n",
       "      <th>min</th>\n",
       "      <td>1.300000e+01</td>\n",
       "    </tr>\n",
       "    <tr>\n",
       "      <th>25%</th>\n",
       "      <td>2.200000e+01</td>\n",
       "    </tr>\n",
       "    <tr>\n",
       "      <th>50%</th>\n",
       "      <td>2.200000e+01</td>\n",
       "    </tr>\n",
       "    <tr>\n",
       "      <th>75%</th>\n",
       "      <td>2.200000e+01</td>\n",
       "    </tr>\n",
       "    <tr>\n",
       "      <th>max</th>\n",
       "      <td>2.200000e+01</td>\n",
       "    </tr>\n",
       "  </tbody>\n",
       "</table>\n",
       "</div>"
      ],
      "text/plain": [
       "          imageFile\n",
       "count  2.177397e+06\n",
       "mean   2.192533e+01\n",
       "std    4.398633e-01\n",
       "min    1.300000e+01\n",
       "25%    2.200000e+01\n",
       "50%    2.200000e+01\n",
       "75%    2.200000e+01\n",
       "max    2.200000e+01"
      ]
     },
     "execution_count": 17,
     "metadata": {},
     "output_type": "execute_result"
    }
   ],
   "source": [
    "df[['imageFile']].apply(lambda x: x.str.len()).describe()"
   ]
  },
  {
   "cell_type": "code",
   "execution_count": 18,
   "metadata": {},
   "outputs": [
    {
     "data": {
      "text/html": [
       "<div>\n",
       "<style scoped>\n",
       "    .dataframe tbody tr th:only-of-type {\n",
       "        vertical-align: middle;\n",
       "    }\n",
       "\n",
       "    .dataframe tbody tr th {\n",
       "        vertical-align: top;\n",
       "    }\n",
       "\n",
       "    .dataframe thead th {\n",
       "        text-align: right;\n",
       "    }\n",
       "</style>\n",
       "<table border=\"1\" class=\"dataframe\">\n",
       "  <thead>\n",
       "    <tr style=\"text-align: right;\">\n",
       "      <th></th>\n",
       "      <th>imageFile</th>\n",
       "    </tr>\n",
       "  </thead>\n",
       "  <tbody>\n",
       "    <tr>\n",
       "      <th>0</th>\n",
       "      <td>None</td>\n",
       "    </tr>\n",
       "    <tr>\n",
       "      <th>1</th>\n",
       "      <td>None</td>\n",
       "    </tr>\n",
       "    <tr>\n",
       "      <th>2</th>\n",
       "      <td>photo549756862472.jpg</td>\n",
       "    </tr>\n",
       "    <tr>\n",
       "      <th>3</th>\n",
       "      <td>photo549756862473.jpg</td>\n",
       "    </tr>\n",
       "    <tr>\n",
       "      <th>4</th>\n",
       "      <td>photo549756862474.jpg</td>\n",
       "    </tr>\n",
       "    <tr>\n",
       "      <th>...</th>\n",
       "      <td>...</td>\n",
       "    </tr>\n",
       "    <tr>\n",
       "      <th>95</th>\n",
       "      <td>photo1649268490341.jpg</td>\n",
       "    </tr>\n",
       "    <tr>\n",
       "      <th>96</th>\n",
       "      <td>photo1649268490342.jpg</td>\n",
       "    </tr>\n",
       "    <tr>\n",
       "      <th>97</th>\n",
       "      <td>photo1649268490343.jpg</td>\n",
       "    </tr>\n",
       "    <tr>\n",
       "      <th>98</th>\n",
       "      <td>photo549756862568.jpg</td>\n",
       "    </tr>\n",
       "    <tr>\n",
       "      <th>99</th>\n",
       "      <td>photo549756862569.jpg</td>\n",
       "    </tr>\n",
       "  </tbody>\n",
       "</table>\n",
       "<p>100 rows × 1 columns</p>\n",
       "</div>"
      ],
      "text/plain": [
       "                 imageFile\n",
       "0                     None\n",
       "1                     None\n",
       "2    photo549756862472.jpg\n",
       "3    photo549756862473.jpg\n",
       "4    photo549756862474.jpg\n",
       "..                     ...\n",
       "95  photo1649268490341.jpg\n",
       "96  photo1649268490342.jpg\n",
       "97  photo1649268490343.jpg\n",
       "98   photo549756862568.jpg\n",
       "99   photo549756862569.jpg\n",
       "\n",
       "[100 rows x 1 columns]"
      ]
     },
     "execution_count": 18,
     "metadata": {},
     "output_type": "execute_result"
    }
   ],
   "source": [
    "df[['imageFile']].head(100)"
   ]
  },
  {
   "cell_type": "code",
   "execution_count": null,
   "metadata": {},
   "outputs": [],
   "source": []
  }
 ],
 "metadata": {
  "kernelspec": {
   "display_name": "base",
   "language": "python",
   "name": "python3"
  },
  "language_info": {
   "codemirror_mode": {
    "name": "ipython",
    "version": 3
   },
   "file_extension": ".py",
   "mimetype": "text/x-python",
   "name": "python",
   "nbconvert_exporter": "python",
   "pygments_lexer": "ipython3",
   "version": "3.12.7"
  }
 },
 "nbformat": 4,
 "nbformat_minor": 2
}
