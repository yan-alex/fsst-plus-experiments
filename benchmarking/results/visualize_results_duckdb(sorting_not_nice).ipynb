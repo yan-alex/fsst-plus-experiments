{
 "cells": [
  {
   "cell_type": "code",
   "execution_count": 13,
   "id": "a8601163-c056-4768-8e12-b006f6385d88",
   "metadata": {},
   "outputs": [],
   "source": [
    "import duckdb\n",
    "import plotly.express as px\n",
    "import plotly.graph_objects as go\n",
    "from plotly.subplots import make_subplots\n",
    "import os\n",
    "import shutil # Import the shutil module\n"
   ]
  },
  {
   "cell_type": "code",
   "execution_count": 14,
   "id": "93fa9947-3271-47bd-bc98-f2a4483b7123",
   "metadata": {},
   "outputs": [
    {
     "name": "stdout",
     "output_type": "stream",
     "text": [
      "┌──────────────────────────────────────────────────────────────────────────────────────────────────────────────┬────────────────────┬────────────────────────────────────────────┬────────────┬────────────────┬─────────────┬────────────────────┬─────────────┬───────────────┐\n",
      "│                                                     path                                                     │      dataset       │                  col_name                  │    algo    │ amount_of_rows │ run_time_ms │ compression_factor │ num_strings │ original_size │\n",
      "│                                                   varchar                                                    │      varchar       │                  varchar                   │  varchar   │     int64      │   double    │       double       │    int64    │     int64     │\n",
      "├──────────────────────────────────────────────────────────────────────────────────────────────────────────────┼────────────────────┼────────────────────────────────────────────┼────────────┼────────────────┼─────────────┼────────────────────┼─────────────┼───────────────┤\n",
      "│ /export/scratch2/home/yla/fsst-plus-experiments/benchmarking/data/refined/CyclicJoinBench/SNB3-parquet       │ tagclass           │ name                                       │ dictionary │             71 │         0.0 │           0.839225 │          71 │           736 │\n",
      "│ /export/scratch2/home/yla/fsst-plus-experiments/benchmarking/data/refined/CyclicJoinBench/SNB3-parquet       │ organisation       │ type                                       │ dictionary │           7955 │         0.0 │           9.384799 │        7955 │         74825 │\n",
      "│ /export/scratch2/home/yla/fsst-plus-experiments/benchmarking/data/refined/CyclicJoinBench/SNB3-parquet       │ place              │ name                                       │ dictionary │           1460 │         0.0 │           0.742396 │        1460 │         12107 │\n",
      "│ /export/scratch2/home/yla/fsst-plus-experiments/benchmarking/data/refined/CyclicJoinBench/SNB3-parquet       │ tagclass           │ name                                       │ basic_fsst │             71 │   15.056116 │           1.108434 │          71 │           736 │\n",
      "│ /export/scratch2/home/yla/fsst-plus-experiments/benchmarking/data/refined/PublicBIbenchmark/AirlineSentiment │ AirlineSentiment_1 │ Camarico                                   │ dictionary │             74 │         0.0 │           0.847193 │          74 │           815 │\n",
      "│ /export/scratch2/home/yla/fsst-plus-experiments/benchmarking/data/refined/CyclicJoinBench/SNB3-parquet       │ organisation       │ type                                       │ basic_fsst │           7955 │   16.029155 │           5.205942 │        7955 │         74825 │\n",
      "│ /export/scratch2/home/yla/fsst-plus-experiments/benchmarking/data/refined/PublicBIbenchmark/IUBLibrary       │ IUBLibrary_1       │ VELIE DANIEL                               │ dictionary │           1794 │         0.0 │           0.939806 │        1794 │         34052 │\n",
      "│ /export/scratch2/home/yla/fsst-plus-experiments/benchmarking/data/refined/PublicBIbenchmark/MLB              │ MLB_1              │ Middle                                     │ dictionary │          78314 │         0.0 │           5.996707 │       78314 │        469788 │\n",
      "│ /export/scratch2/home/yla/fsst-plus-experiments/benchmarking/data/refined/PublicBIbenchmark/AirlineSentiment │ AirlineSentiment_1 │ Camarico                                   │ basic_fsst │             74 │    9.544117 │           1.279435 │          74 │           815 │\n",
      "│ /export/scratch2/home/yla/fsst-plus-experiments/benchmarking/data/refined/CyclicJoinBench/SNB3-parquet       │ tagclass           │ name                                       │ fsst_plus  │             71 │   12.191547 │           0.805252 │          71 │           736 │\n",
      "│                                                   ·                                                          │    ·               │  ·                                         │     ·      │              · │       ·     │               ·    │           · │            ·  │\n",
      "│                                                   ·                                                          │    ·               │  ·                                         │     ·      │              · │       ·     │               ·    │           · │            ·  │\n",
      "│                                                   ·                                                          │    ·               │  ·                                         │     ·      │              · │       ·     │               ·    │           · │            ·  │\n",
      "│ /export/scratch2/home/yla/fsst-plus-experiments/benchmarking/data/refined/PublicBIbenchmark/SalariesFrance   │ SalariesFrance_1   │ SYLVICULTURE ET EXPLOITATION FORESTIÈRE_1  │ basic_fsst │         100000 │   67.468375 │           2.508775 │      100000 │       3478431 │\n",
      "│ /export/scratch2/home/yla/fsst-plus-experiments/benchmarking/data/refined/PublicBIbenchmark/SalariesFrance   │ SalariesFrance_13  │ null_38                                    │ fsst_plus  │         100000 │  801.108705 │           0.976266 │      100000 │        493062 │\n",
      "│ /export/scratch2/home/yla/fsst-plus-experiments/benchmarking/data/refined/PublicBIbenchmark/SalariesFrance   │ SalariesFrance_4   │ ACT. FINANC. HS ASSUR. ET CAIS. RETRAITE_1 │ fsst_plus  │         100000 │  999.783915 │            6.37823 │      100000 │       3480326 │\n",
      "│ /export/scratch2/home/yla/fsst-plus-experiments/benchmarking/data/refined/PublicBIbenchmark/SalariesFrance   │ SalariesFrance_13  │ THIERS                                     │ dictionary │         100000 │         0.0 │           0.401901 │      100000 │       1081462 │\n",
      "│ /export/scratch2/home/yla/fsst-plus-experiments/benchmarking/data/refined/PublicBIbenchmark/SalariesFrance   │ SalariesFrance_1   │ SYLVICULTURE ET EXPLOITATION FORESTIÈRE_1  │ fsst_plus  │         100000 │   968.35654 │             6.3729 │      100000 │       3478431 │\n",
      "│ /export/scratch2/home/yla/fsst-plus-experiments/benchmarking/data/refined/PublicBIbenchmark/SalariesFrance   │ SalariesFrance_13  │ THIERS                                     │ basic_fsst │         100000 │   27.568742 │           4.149112 │      100000 │       1081462 │\n",
      "│ /export/scratch2/home/yla/fsst-plus-experiments/benchmarking/data/refined/PublicBIbenchmark/SalariesFrance   │ SalariesFrance_13  │ THIERS                                     │ fsst_plus  │         100000 │  611.838073 │           1.948215 │      100000 │       1081462 │\n",
      "│ /export/scratch2/home/yla/fsst-plus-experiments/benchmarking/data/refined/PublicBIbenchmark/SalariesFrance   │ SalariesFrance_13  │ SYLVICULTURE ET EXPLOITATION FORESTIÈRE_1  │ dictionary │         100000 │         0.0 │           2.576801 │      100000 │       3474425 │\n",
      "│ /export/scratch2/home/yla/fsst-plus-experiments/benchmarking/data/refined/PublicBIbenchmark/SalariesFrance   │ SalariesFrance_13  │ SYLVICULTURE ET EXPLOITATION FORESTIÈRE_1  │ basic_fsst │         100000 │   56.445138 │           2.406283 │      100000 │       3474425 │\n",
      "│ /export/scratch2/home/yla/fsst-plus-experiments/benchmarking/data/refined/PublicBIbenchmark/SalariesFrance   │ SalariesFrance_13  │ SYLVICULTURE ET EXPLOITATION FORESTIÈRE_1  │ fsst_plus  │         100000 │  929.980302 │           6.360492 │      100000 │       3474425 │\n",
      "├──────────────────────────────────────────────────────────────────────────────────────────────────────────────┴────────────────────┴────────────────────────────────────────────┴────────────┴────────────────┴─────────────┴────────────────────┴─────────────┴───────────────┤\n",
      "│ 8773 rows (20 shown)                                                                                                                                                                                                                                                9 columns │\n",
      "└───────────────────────────────────────────────────────────────────────────────────────────────────────────────────────────────────────────────────────────────────────────────────────────────────────────────────────────────────────────────────────────────────────────────┘\n",
      "\n"
     ]
    }
   ],
   "source": [
    "# First cell: Read parquet and get descriptive statistics\n",
    "conn = duckdb.connect()\n",
    "conn.sql(\"CREATE TABLE results AS SELECT * FROM read_parquet('results.parquet')\")\n",
    "conn.sql(\"SELECT * FROM results\").show()\n"
   ]
  },
  {
   "cell_type": "code",
   "execution_count": 15,
   "id": "502bcd8e",
   "metadata": {},
   "outputs": [
    {
     "data": {
      "text/plain": [
       "<duckdb.duckdb.DuckDBPyConnection at 0x7f4d2b5ad230>"
      ]
     },
     "execution_count": 15,
     "metadata": {},
     "output_type": "execute_result"
    }
   ],
   "source": [
    "# Create the results table with dataset_column\n",
    "conn.execute(\"\"\"\n",
    "CREATE OR REPLACE TABLE results AS\n",
    "SELECT *,\n",
    "       dataset || '_' || col_name AS dataset_column\n",
    "FROM results\n",
    "\"\"\")"
   ]
  },
  {
   "cell_type": "code",
   "execution_count": 16,
   "id": "1f591dc0",
   "metadata": {},
   "outputs": [
    {
     "data": {
      "text/plain": [
       "<duckdb.duckdb.DuckDBPyConnection at 0x7f4d2b5ad230>"
      ]
     },
     "execution_count": 16,
     "metadata": {},
     "output_type": "execute_result"
    }
   ],
   "source": [
    "# Sort the results table by dataset_column\n",
    "conn.execute(\"\"\"\n",
    "CREATE OR REPLACE TABLE results AS\n",
    "SELECT *\n",
    "FROM results\n",
    "ORDER BY dataset_column\n",
    "\"\"\")"
   ]
  },
  {
   "cell_type": "code",
   "execution_count": 17,
   "id": "fc5c9709",
   "metadata": {},
   "outputs": [],
   "source": [
    "import plotly.express as px\n",
    "import os\n",
    "import shutil\n",
    "import pandas as pd # Assuming df is a pandas DataFrame, ensure pandas is imported\n",
    "\n",
    "# Assume df is loaded somewhere above this script\n",
    "def save_plots(df, file_name):\n",
    "    plots_dir = \"plots_duckdb\"\n",
    "    # # Remove the directory and its contents if it exists\n",
    "    # if os.path.exists(plots_dir):\n",
    "    #     shutil.rmtree(plots_dir)\n",
    "    #     print(f\"Removed existing directory: '{plots_dir}'\")\n",
    "\n",
    "    os.makedirs(plots_dir, exist_ok=True)\n",
    "\n",
    "    figures = [] # List to store figures\n",
    "\n",
    "    for i in range(0, len(df), 200):\n",
    "        start_row = i\n",
    "        end_row = min(i + 200, len(df))\n",
    "        # Ensure df_chunk is created correctly, especially if df index is not standard 0..N-1\n",
    "        # If df has a standard integer index, this is fine.\n",
    "        # If not, consider using iloc for integer position slicing:\n",
    "        # df_chunk = df.iloc[start_row:end_row]\n",
    "        df_chunk = df.loc[start_row:end_row-1] # Using loc as in original code\n",
    "\n",
    "        # Create the plot for the current chunk\n",
    "        fig = px.bar(\n",
    "            df_chunk,\n",
    "            x=\"dataset_column\",\n",
    "            y=\"compression_factor\",\n",
    "            color=\"algo\",\n",
    "            barmode=\"group\",\n",
    "            hover_data=[\"path\"],\n",
    "            color_discrete_map={\n",
    "                \"basic_fsst\": \"#636EFA\",\n",
    "                \"fsst_plus\": \"#EF553B\",\n",
    "                \"dictionary\": \"#00CC96\"\n",
    "            },\n",
    "            category_orders={\"algo\": [\"basic_fsst\", \"fsst_plus\", \"dictionary\"]},\n",
    "            title=f\"Compression Factor Comparison (Rows {start_row}-{end_row-1})\"\n",
    "        )\n",
    "        figures.append(fig) # Add the figure to the list\n",
    "\n",
    "    # Define the single output filename\n",
    "    output_filename = os.path.join(plots_dir, f\"{file_name}.html\")\n",
    "    #Remove the file if it exists\n",
    "    if os.path.exists(output_filename):\n",
    "        os.remove(output_filename)\n",
    "    # Write all figures to the single HTML file\n",
    "    with open(output_filename, 'w') as f:\n",
    "        # Write HTML header with Plotly JS CDN link\n",
    "        f.write(\"<html><head><meta charset='utf-8' /><script src='https://cdn.plot.ly/plotly-latest.min.js'></script></head><body>\\n\")\n",
    "\n",
    "        # Write each figure's HTML div\n",
    "        for fig in figures:\n",
    "            f.write(fig.to_html(full_html=False, include_plotlyjs=False)) # Write fig div\n",
    "            f.write(\"<hr>\\n\") # Add a horizontal rule between plots for separation\n",
    "\n",
    "        # Write HTML closing tags\n",
    "        f.write(\"</body></html>\\n\")\n",
    "\n",
    "\n",
    "    print(f\"All plots saved in a single file: '{output_filename}'\")"
   ]
  },
  {
   "cell_type": "code",
   "execution_count": 18,
   "id": "7bd09275",
   "metadata": {},
   "outputs": [
    {
     "name": "stdout",
     "output_type": "stream",
     "text": [
      "All plots saved in a single file: 'plots_duckdb/all_results.html'\n",
      "All plots saved in a single file: 'plots_duckdb/fsst_plus_better.html'\n",
      "All plots saved in a single file: 'plots_duckdb/fsst_plus_worse.html'\n"
     ]
    }
   ],
   "source": [
    "\n",
    "# First, create a table for dataset_columns with all 3 algorithms\n",
    "conn.execute(\"\"\"\n",
    "CREATE OR REPLACE TABLE all_three_algos AS\n",
    "SELECT dataset_column\n",
    "FROM results\n",
    "GROUP BY dataset_column\n",
    "HAVING COUNT(*) = 3\n",
    "\"\"\")\n",
    "\n",
    "# Create pivoted table for compression factors\n",
    "conn.execute(\"\"\"\n",
    "CREATE OR REPLACE TABLE pivoted AS\n",
    "SELECT \n",
    "    dataset_column,\n",
    "    MAX(CASE WHEN algo = 'basic_fsst' THEN compression_factor END) AS basic_fsst,\n",
    "    MAX(CASE WHEN algo = 'fsst_plus' THEN compression_factor END) AS fsst_plus\n",
    "FROM results\n",
    "WHERE algo IN ('basic_fsst', 'fsst_plus')\n",
    "GROUP BY dataset_column\n",
    "\"\"\")\n",
    "\n",
    "# Create fsst_plus_better table\n",
    "conn.execute(\"\"\"\n",
    "CREATE OR REPLACE TABLE fsst_plus_better AS\n",
    "SELECT r.*\n",
    "FROM results r\n",
    "JOIN all_three_algos a ON r.dataset_column = a.dataset_column\n",
    "JOIN pivoted p ON r.dataset_column = p.dataset_column\n",
    "WHERE p.fsst_plus > p.basic_fsst\n",
    "\"\"\")\n",
    "\n",
    "# Create fsst_plus_worse table\n",
    "conn.execute(\"\"\"\n",
    "CREATE OR REPLACE TABLE fsst_plus_worse AS\n",
    "SELECT r.*\n",
    "FROM results r\n",
    "JOIN all_three_algos a ON r.dataset_column = a.dataset_column\n",
    "JOIN pivoted p ON r.dataset_column = p.dataset_column\n",
    "WHERE p.fsst_plus < p.basic_fsst\n",
    "\"\"\")\n",
    "\n",
    "# Convert to pandas and save plots\n",
    "all_results = conn.execute(\"SELECT * FROM results\").df()\n",
    "fsst_plus_better = conn.execute(\"SELECT * FROM fsst_plus_better\").df()\n",
    "fsst_plus_worse = conn.execute(\"SELECT * FROM fsst_plus_worse\").df()\n",
    "\n",
    "save_plots(all_results, \"all_results\")\n",
    "save_plots(fsst_plus_better, \"fsst_plus_better\")\n",
    "save_plots(fsst_plus_worse, \"fsst_plus_worse\")"
   ]
  },
  {
   "cell_type": "code",
   "execution_count": null,
   "id": "bbebb554",
   "metadata": {},
   "outputs": [],
   "source": []
  }
 ],
 "metadata": {
  "kernelspec": {
   "display_name": "base",
   "language": "python",
   "name": "python3"
  },
  "language_info": {
   "codemirror_mode": {
    "name": "ipython",
    "version": 3
   },
   "file_extension": ".py",
   "mimetype": "text/x-python",
   "name": "python",
   "nbconvert_exporter": "python",
   "pygments_lexer": "ipython3",
   "version": "3.12.2"
  }
 },
 "nbformat": 4,
 "nbformat_minor": 5
}
